{
 "cells": [
  {
   "cell_type": "code",
   "execution_count": 1,
   "metadata": {
    "colab": {
     "base_uri": "https://localhost:8080/"
    },
    "id": "XwuLg7lCSwJR",
    "outputId": "0a0aa72e-1882-4421-d8c6-ff5915c5bb1e"
   },
   "outputs": [],
   "source": [
    "import pandas as pd\n",
    "import geopandas as gpd #geopandas for dataframes with spatial info\n",
    "from shapely.geometry import Point\n",
    "from shapely import wkt\n",
    "import numpy as np\n",
    "import matplotlib.pyplot as plt #for creating plots\n",
    "\n",
    "import os \n",
    "import seaborn as sns #for styling the plots\n",
    "import statsmodels.formula.api as smf\n",
    "import warnings\n",
    "import urllib.request\n",
    "import zipfile\n",
    "import matplotlib as mpl\n",
    "warnings.filterwarnings('ignore')\n",
    "%matplotlib inline"
   ]
  },
  {
   "cell_type": "markdown",
   "metadata": {},
   "source": [
    "### 1. Change in listing descriptions"
   ]
  },
  {
   "cell_type": "code",
   "execution_count": 2,
   "metadata": {},
   "outputs": [],
   "source": [
    "# this is the cleaned version, after exploratory analysis\n",
    "listings = pd.read_csv('./PUI_Data/airbnb/clean_airbnb_listings.csv')"
   ]
  },
  {
   "cell_type": "code",
   "execution_count": 3,
   "metadata": {},
   "outputs": [],
   "source": [
    "import nltk\n",
    "from nltk.corpus import stopwords\n",
    "import re\n",
    "import string\n",
    "from bs4 import BeautifulSoup\n",
    "import gensim\n",
    "from gensim import models\n",
    "from gensim.models import Word2Vec\n",
    "from wordcloud import WordCloud, STOPWORDS, ImageColorGenerator"
   ]
  },
  {
   "cell_type": "code",
   "execution_count": 4,
   "metadata": {},
   "outputs": [],
   "source": [
    "# remove descriptions that are NaN \n",
    "# filter desriptions for listings in 2020\n",
    "testset = listings[listings.description.notnull()][(listings['year']==2020)]"
   ]
  },
  {
   "cell_type": "markdown",
   "metadata": {},
   "source": [
    "#### 1.0 Building word2vec model"
   ]
  },
  {
   "cell_type": "code",
   "execution_count": 5,
   "metadata": {},
   "outputs": [],
   "source": [
    "# tokenize the listings, append list of tokens for word2vec model\n",
    "# numbers, html tags, punctuations, double spaces, stopwords are removed\n",
    "ttokens=[]\n",
    "stop_words = set(stopwords.words('english'))\n",
    "for text in testset.description:\n",
    "    text_nonum = re.sub(r'\\d+', '', text)\n",
    "    text_nohtml = BeautifulSoup(text_nonum, \"lxml\").text\n",
    "    text_nodash = re.sub(r'-',' ',text_nohtml)\n",
    "    text_nopunct = \"\".join([char.lower() for char in text_nodash if char not in string.punctuation]) \n",
    "    text_no_doublespace = re.sub('\\s+', ' ', text_nopunct).strip()\n",
    "    ttokens.append([t for t in text_no_doublespace.split() if t not in stop_words]) # remove stopwords"
   ]
  },
  {
   "cell_type": "code",
   "execution_count": 6,
   "metadata": {},
   "outputs": [],
   "source": [
    "# training word2vec model\n",
    "model = gensim.models.Word2Vec(ttokens, min_count=1,size=100,workers=4)"
   ]
  },
  {
   "cell_type": "code",
   "execution_count": 7,
   "metadata": {},
   "outputs": [
    {
     "name": "stdout",
     "output_type": "stream",
     "text": [
      "[('pandemic', 0.8106306791305542), ('covid', 0.777254581451416), ('outbreak', 0.7183017134666443), ('precautions', 0.7053471803665161), ('crisis', 0.6980487108230591), ('virus', 0.6930223703384399), ('sanitizing', 0.6858267188072205), ('viral', 0.6810903549194336), ('cdc', 0.676338791847229), ('procedures', 0.6747583150863647), ('disinfect', 0.6682676076889038), ('updatemy', 0.6675398349761963), ('fight', 0.6520447731018066), ('prevention', 0.644681990146637), ('experts', 0.6384484767913818), ('wuhan', 0.631658673286438), ('results', 0.6301978826522827), ('guidelines', 0.6301625967025757), ('germs', 0.6300048828125), ('antibodies', 0.6186659932136536)]\n",
      "[('masks', 0.7689292430877686), ('gloves', 0.7485462427139282), ('wearing', 0.6692668795585632), ('spray', 0.6331809759140015), ('clorox', 0.6329555511474609), ('lysol', 0.6314247846603394), ('toothbrushpaste', 0.6252113580703735), ('wear', 0.6176000237464905), ('slippers', 0.6089611053466797), ('dirty', 0.5994935035705566)]\n",
      "[('rentdiscounted', 0.6928759217262268), ('healthcare', 0.6738505363464355), ('displaced', 0.656169056892395), ('freelancers', 0.6492933034896851), ('recovery', 0.6319155097007751), ('residencies', 0.6209341287612915), ('skater', 0.6130214333534241), ('participated', 0.6064207553863525), ('profess', 0.6034548282623291), ('clinicals', 0.596458911895752)]\n"
     ]
    }
   ],
   "source": [
    "# with the most_similar function we can explore broad themes in the listings\n",
    "print(model.most_similar(positive=['coronavirus'],topn=20))\n",
    "print(model.most_similar(positive=['mask']))\n",
    "print(model.most_similar(positive=['frontline']))"
   ]
  },
  {
   "cell_type": "code",
   "execution_count": 8,
   "metadata": {},
   "outputs": [],
   "source": [
    "import seaborn as sns\n",
    "sns.set_style(\"darkgrid\")\n",
    "from sklearn.decomposition import PCA\n",
    "from sklearn.manifold import TSNE"
   ]
  },
  {
   "cell_type": "code",
   "execution_count": 9,
   "metadata": {},
   "outputs": [],
   "source": [
    "def tsnescatterplot(model, word, list_names):\n",
    "\n",
    "    arrays = np.empty((0, 100), dtype='f')\n",
    "    word_labels = [word]\n",
    "    color_list  = ['red']\n",
    "\n",
    "    # adds the vector of the query word\n",
    "    arrays = np.append(arrays, model.wv.__getitem__([word]), axis=0)\n",
    "    \n",
    "    # gets list of most similar words\n",
    "    close_words = model.wv.most_similar([word],topn=20)\n",
    "    \n",
    "    # adds the vector for each of the closest words to the array\n",
    "    for wrd_score in close_words:\n",
    "        wrd_vector = model.wv.__getitem__([wrd_score[0]])\n",
    "        word_labels.append(wrd_score[0])\n",
    "        color_list.append('blue')\n",
    "        arrays = np.append(arrays, wrd_vector, axis=0)\n",
    "    \n",
    "    # adds the vector for each of the words from list_names to the array\n",
    "    for wrd in list_names:\n",
    "        wrd_vector = model.wv.__getitem__([wrd])\n",
    "        word_labels.append(wrd)\n",
    "        color_list.append('green')\n",
    "        arrays = np.append(arrays, wrd_vector, axis=0)\n",
    "        \n",
    "    # Reduces the dimensionality from 100 to 50 dimensions with PCA\n",
    "    reduc = PCA(n_components=15).fit_transform(arrays)\n",
    "    \n",
    "    # Finds t-SNE coordinates for 2 dimensions\n",
    "    np.set_printoptions(suppress=True)\n",
    "    \n",
    "    Y = TSNE(n_components=2, random_state=0, perplexity=15).fit_transform(reduc)\n",
    "    \n",
    "    # Sets everything up to plot\n",
    "    df = pd.DataFrame({'x': [x for x in Y[:, 0]],\n",
    "                       'y': [y for y in Y[:, 1]],\n",
    "                       'words': word_labels,\n",
    "                       'color': color_list})\n",
    "    \n",
    "    fig, _ = plt.subplots()\n",
    "    fig.set_size_inches(9, 9)\n",
    "    \n",
    "    # Basic plot\n",
    "    p1 = sns.regplot(data=df,\n",
    "                     x=\"x\",\n",
    "                     y=\"y\",\n",
    "                     fit_reg=False,\n",
    "                     marker=\"o\",\n",
    "                     scatter_kws={'s': 40,\n",
    "                                  'facecolors': df['color']\n",
    "                                 }\n",
    "                    )\n",
    "    \n",
    "    # Adds annotations one by one with a loop\n",
    "    for line in range(0, df.shape[0]):\n",
    "         p1.text(df[\"x\"][line],\n",
    "                 df['y'][line],\n",
    "                 '  ' + df[\"words\"][line].title(),\n",
    "                 horizontalalignment='left',\n",
    "                 verticalalignment='bottom', size='medium',\n",
    "                 color=df['color'][line],\n",
    "                 weight='normal',\n",
    "                ).set_size(12)\n",
    "\n",
    "    \n",
    "    plt.xlim(Y[:, 0].min()-50, Y[:, 0].max()+50)\n",
    "    plt.ylim(Y[:, 1].min()-50, Y[:, 1].max()+50)\n",
    "            \n",
    "    plt.title('t-SNE visualization for {}'.format(word.title()))"
   ]
  },
  {
   "cell_type": "code",
   "execution_count": 10,
   "metadata": {},
   "outputs": [
    {
     "data": {
      "image/png": "[encoded data removed]",
      "text/plain": [
       "<Figure size 648x648 with 1 Axes>"
      ]
     },
     "metadata": {},
     "output_type": "display_data"
    }
   ],
   "source": [
    "# t-sne plot for showing closely related words in 2 dimensions\n",
    "tsnescatterplot(model, 'coronavirus', ['retail','groceries','shopping','restaurant']) \n",
    "# compared to four unrelated words"
   ]
  },
  {
   "cell_type": "markdown",
   "metadata": {},
   "source": [
    "#### 1.0.1 Specific token frequency in each month of listings"
   ]
  },
  {
   "cell_type": "code",
   "execution_count": 29,
   "metadata": {},
   "outputs": [],
   "source": [
    "# building df with monthly listing descriptions as tokens\n",
    "mtokens = []\n",
    "for month in range(9):\n",
    "    monthlistings = listings[listings.description.notnull()][(listings['year']==2020) & (listings['month']==(month+1))]\n",
    "    tokens = []\n",
    "    \n",
    "    for text in monthlistings.description:\n",
    "        text_nonum = re.sub(r'\\d+', '', text)\n",
    "        text_nohtml = BeautifulSoup(text_nonum, \"lxml\").text\n",
    "        text_nodash = re.sub(r'-',' ',text_nohtml)\n",
    "        text_nopunct = \"\".join([char.lower() for char in text_nodash if char not in string.punctuation]) \n",
    "        text_no_doublespace = re.sub('\\s+', ' ', text_nopunct).strip()\n",
    "        tokens.append([t for t in text_no_doublespace.split() if t not in stop_words])\n",
    "    \n",
    "    tokens2 = []\n",
    "    \n",
    "    for bag in tokens:\n",
    "        for word in bag:\n",
    "            tokens2.append(word)\n",
    "    \n",
    "    mtokens.append(tokens2)"
   ]
  },
  {
   "cell_type": "code",
   "execution_count": 30,
   "metadata": {},
   "outputs": [
    {
     "data": {
      "text/html": [
       "<div>\n",
       "<style scoped>\n",
       "    .dataframe tbody tr th:only-of-type {\n",
       "        vertical-align: middle;\n",
       "    }\n",
       "\n",
       "    .dataframe tbody tr th {\n",
       "        vertical-align: top;\n",
       "    }\n",
       "\n",
       "    .dataframe thead th {\n",
       "        text-align: right;\n",
       "    }\n",
       "</style>\n",
       "<table border=\"1\" class=\"dataframe\">\n",
       "  <thead>\n",
       "    <tr style=\"text-align: right;\">\n",
       "      <th></th>\n",
       "      <th>tokens</th>\n",
       "    </tr>\n",
       "  </thead>\n",
       "  <tbody>\n",
       "    <tr>\n",
       "      <th>0</th>\n",
       "      <td>[urban, retreat, enjoy, sf, floor, brownstone,...</td>\n",
       "    </tr>\n",
       "    <tr>\n",
       "      <th>1</th>\n",
       "      <td>[urban, retreat, enjoy, sf, floor, brownstone,...</td>\n",
       "    </tr>\n",
       "    <tr>\n",
       "      <th>2</th>\n",
       "      <td>[lovely, spacious, sunny, br, apartment, th, f...</td>\n",
       "    </tr>\n",
       "    <tr>\n",
       "      <th>3</th>\n",
       "      <td>[lovely, spacious, sunny, br, apartment, th, f...</td>\n",
       "    </tr>\n",
       "    <tr>\n",
       "      <th>4</th>\n",
       "      <td>[lovely, spacious, sunny, br, apartment, th, f...</td>\n",
       "    </tr>\n",
       "    <tr>\n",
       "      <th>5</th>\n",
       "      <td>[lovely, spacious, sunny, br, apartment, th, f...</td>\n",
       "    </tr>\n",
       "    <tr>\n",
       "      <th>6</th>\n",
       "      <td>[lovely, spacious, sunny, br, apartment, th, f...</td>\n",
       "    </tr>\n",
       "    <tr>\n",
       "      <th>7</th>\n",
       "      <td>[enjoy, sf, top, floor, brownstone, w, wood, c...</td>\n",
       "    </tr>\n",
       "    <tr>\n",
       "      <th>8</th>\n",
       "      <td>[enjoy, sf, top, floor, brownstone, w, wood, c...</td>\n",
       "    </tr>\n",
       "  </tbody>\n",
       "</table>\n",
       "</div>"
      ],
      "text/plain": [
       "                                              tokens\n",
       "0  [urban, retreat, enjoy, sf, floor, brownstone,...\n",
       "1  [urban, retreat, enjoy, sf, floor, brownstone,...\n",
       "2  [lovely, spacious, sunny, br, apartment, th, f...\n",
       "3  [lovely, spacious, sunny, br, apartment, th, f...\n",
       "4  [lovely, spacious, sunny, br, apartment, th, f...\n",
       "5  [lovely, spacious, sunny, br, apartment, th, f...\n",
       "6  [lovely, spacious, sunny, br, apartment, th, f...\n",
       "7  [enjoy, sf, top, floor, brownstone, w, wood, c...\n",
       "8  [enjoy, sf, top, floor, brownstone, w, wood, c..."
      ]
     },
     "execution_count": 30,
     "metadata": {},
     "output_type": "execute_result"
    }
   ],
   "source": [
    "mlistings = pd.DataFrame(index=range(9),columns=['tokens'])\n",
    "for i in range(9):\n",
    "    mlistings.iloc[i,0] = mtokens[i]\n",
    "mlistings"
   ]
  },
  {
   "cell_type": "code",
   "execution_count": 32,
   "metadata": {},
   "outputs": [
    {
     "data": {
      "text/plain": [
       "['pandemic',\n",
       " 'covid',\n",
       " 'outbreak',\n",
       " 'precautions',\n",
       " 'crisis',\n",
       " 'virus',\n",
       " 'sanitizing',\n",
       " 'viral',\n",
       " 'cdc',\n",
       " 'procedures']"
      ]
     },
     "execution_count": 32,
     "metadata": {},
     "output_type": "execute_result"
    }
   ],
   "source": [
    "# get list of words closely related to coronavirus\n",
    "coronalist = [x[0] for x in model.most_similar(positive=['coronavirus'])]\n",
    "coronalist"
   ]
  },
  {
   "cell_type": "code",
   "execution_count": 33,
   "metadata": {},
   "outputs": [
    {
     "data": {
      "text/plain": [
       "[7, 8, 135, 453, 619, 835, 967, 873, 900]"
      ]
     },
     "execution_count": 33,
     "metadata": {},
     "output_type": "execute_result"
    }
   ],
   "source": [
    "# get frequency of corona-similar tokens in each month of listings\n",
    "coronafreq=[]\n",
    "for tokens in mlistings.tokens:\n",
    "    freq = 0\n",
    "    for word in coronalist:\n",
    "        freq += tokens.count(word)\n",
    "    coronafreq.append(freq)\n",
    "coronafreq"
   ]
  },
  {
   "cell_type": "code",
   "execution_count": 34,
   "metadata": {},
   "outputs": [
    {
     "data": {
      "text/html": [
       "<div>\n",
       "<style scoped>\n",
       "    .dataframe tbody tr th:only-of-type {\n",
       "        vertical-align: middle;\n",
       "    }\n",
       "\n",
       "    .dataframe tbody tr th {\n",
       "        vertical-align: top;\n",
       "    }\n",
       "\n",
       "    .dataframe thead th {\n",
       "        text-align: right;\n",
       "    }\n",
       "</style>\n",
       "<table border=\"1\" class=\"dataframe\">\n",
       "  <thead>\n",
       "    <tr style=\"text-align: right;\">\n",
       "      <th></th>\n",
       "      <th>tokens</th>\n",
       "      <th>coronavirus</th>\n",
       "    </tr>\n",
       "  </thead>\n",
       "  <tbody>\n",
       "    <tr>\n",
       "      <th>0</th>\n",
       "      <td>[urban, retreat, enjoy, sf, floor, brownstone,...</td>\n",
       "      <td>7</td>\n",
       "    </tr>\n",
       "    <tr>\n",
       "      <th>1</th>\n",
       "      <td>[urban, retreat, enjoy, sf, floor, brownstone,...</td>\n",
       "      <td>8</td>\n",
       "    </tr>\n",
       "    <tr>\n",
       "      <th>2</th>\n",
       "      <td>[lovely, spacious, sunny, br, apartment, th, f...</td>\n",
       "      <td>135</td>\n",
       "    </tr>\n",
       "    <tr>\n",
       "      <th>3</th>\n",
       "      <td>[lovely, spacious, sunny, br, apartment, th, f...</td>\n",
       "      <td>453</td>\n",
       "    </tr>\n",
       "    <tr>\n",
       "      <th>4</th>\n",
       "      <td>[lovely, spacious, sunny, br, apartment, th, f...</td>\n",
       "      <td>619</td>\n",
       "    </tr>\n",
       "    <tr>\n",
       "      <th>5</th>\n",
       "      <td>[lovely, spacious, sunny, br, apartment, th, f...</td>\n",
       "      <td>835</td>\n",
       "    </tr>\n",
       "    <tr>\n",
       "      <th>6</th>\n",
       "      <td>[lovely, spacious, sunny, br, apartment, th, f...</td>\n",
       "      <td>967</td>\n",
       "    </tr>\n",
       "    <tr>\n",
       "      <th>7</th>\n",
       "      <td>[enjoy, sf, top, floor, brownstone, w, wood, c...</td>\n",
       "      <td>873</td>\n",
       "    </tr>\n",
       "    <tr>\n",
       "      <th>8</th>\n",
       "      <td>[enjoy, sf, top, floor, brownstone, w, wood, c...</td>\n",
       "      <td>900</td>\n",
       "    </tr>\n",
       "  </tbody>\n",
       "</table>\n",
       "</div>"
      ],
      "text/plain": [
       "                                              tokens  coronavirus\n",
       "0  [urban, retreat, enjoy, sf, floor, brownstone,...            7\n",
       "1  [urban, retreat, enjoy, sf, floor, brownstone,...            8\n",
       "2  [lovely, spacious, sunny, br, apartment, th, f...          135\n",
       "3  [lovely, spacious, sunny, br, apartment, th, f...          453\n",
       "4  [lovely, spacious, sunny, br, apartment, th, f...          619\n",
       "5  [lovely, spacious, sunny, br, apartment, th, f...          835\n",
       "6  [lovely, spacious, sunny, br, apartment, th, f...          967\n",
       "7  [enjoy, sf, top, floor, brownstone, w, wood, c...          873\n",
       "8  [enjoy, sf, top, floor, brownstone, w, wood, c...          900"
      ]
     },
     "execution_count": 34,
     "metadata": {},
     "output_type": "execute_result"
    }
   ],
   "source": [
    "# append frequency\n",
    "mlistings['coronavirus'] = coronafreq\n",
    "mlistings"
   ]
  },
  {
   "cell_type": "code",
   "execution_count": 35,
   "metadata": {},
   "outputs": [
    {
     "data": {
      "text/html": [
       "<div>\n",
       "<style scoped>\n",
       "    .dataframe tbody tr th:only-of-type {\n",
       "        vertical-align: middle;\n",
       "    }\n",
       "\n",
       "    .dataframe tbody tr th {\n",
       "        vertical-align: top;\n",
       "    }\n",
       "\n",
       "    .dataframe thead th {\n",
       "        text-align: right;\n",
       "    }\n",
       "</style>\n",
       "<table border=\"1\" class=\"dataframe\">\n",
       "  <thead>\n",
       "    <tr style=\"text-align: right;\">\n",
       "      <th></th>\n",
       "      <th>tokens</th>\n",
       "      <th>coronavirus</th>\n",
       "      <th>mask</th>\n",
       "      <th>frontline</th>\n",
       "    </tr>\n",
       "  </thead>\n",
       "  <tbody>\n",
       "    <tr>\n",
       "      <th>0</th>\n",
       "      <td>[urban, retreat, enjoy, sf, floor, brownstone,...</td>\n",
       "      <td>7</td>\n",
       "      <td>224</td>\n",
       "      <td>50</td>\n",
       "    </tr>\n",
       "    <tr>\n",
       "      <th>1</th>\n",
       "      <td>[urban, retreat, enjoy, sf, floor, brownstone,...</td>\n",
       "      <td>8</td>\n",
       "      <td>223</td>\n",
       "      <td>47</td>\n",
       "    </tr>\n",
       "    <tr>\n",
       "      <th>2</th>\n",
       "      <td>[lovely, spacious, sunny, br, apartment, th, f...</td>\n",
       "      <td>135</td>\n",
       "      <td>233</td>\n",
       "      <td>56</td>\n",
       "    </tr>\n",
       "    <tr>\n",
       "      <th>3</th>\n",
       "      <td>[lovely, spacious, sunny, br, apartment, th, f...</td>\n",
       "      <td>453</td>\n",
       "      <td>333</td>\n",
       "      <td>92</td>\n",
       "    </tr>\n",
       "    <tr>\n",
       "      <th>4</th>\n",
       "      <td>[lovely, spacious, sunny, br, apartment, th, f...</td>\n",
       "      <td>619</td>\n",
       "      <td>363</td>\n",
       "      <td>109</td>\n",
       "    </tr>\n",
       "    <tr>\n",
       "      <th>5</th>\n",
       "      <td>[lovely, spacious, sunny, br, apartment, th, f...</td>\n",
       "      <td>835</td>\n",
       "      <td>403</td>\n",
       "      <td>88</td>\n",
       "    </tr>\n",
       "    <tr>\n",
       "      <th>6</th>\n",
       "      <td>[lovely, spacious, sunny, br, apartment, th, f...</td>\n",
       "      <td>967</td>\n",
       "      <td>416</td>\n",
       "      <td>83</td>\n",
       "    </tr>\n",
       "    <tr>\n",
       "      <th>7</th>\n",
       "      <td>[enjoy, sf, top, floor, brownstone, w, wood, c...</td>\n",
       "      <td>873</td>\n",
       "      <td>361</td>\n",
       "      <td>40</td>\n",
       "    </tr>\n",
       "    <tr>\n",
       "      <th>8</th>\n",
       "      <td>[enjoy, sf, top, floor, brownstone, w, wood, c...</td>\n",
       "      <td>900</td>\n",
       "      <td>344</td>\n",
       "      <td>40</td>\n",
       "    </tr>\n",
       "  </tbody>\n",
       "</table>\n",
       "</div>"
      ],
      "text/plain": [
       "                                              tokens  coronavirus  mask  \\\n",
       "0  [urban, retreat, enjoy, sf, floor, brownstone,...            7   224   \n",
       "1  [urban, retreat, enjoy, sf, floor, brownstone,...            8   223   \n",
       "2  [lovely, spacious, sunny, br, apartment, th, f...          135   233   \n",
       "3  [lovely, spacious, sunny, br, apartment, th, f...          453   333   \n",
       "4  [lovely, spacious, sunny, br, apartment, th, f...          619   363   \n",
       "5  [lovely, spacious, sunny, br, apartment, th, f...          835   403   \n",
       "6  [lovely, spacious, sunny, br, apartment, th, f...          967   416   \n",
       "7  [enjoy, sf, top, floor, brownstone, w, wood, c...          873   361   \n",
       "8  [enjoy, sf, top, floor, brownstone, w, wood, c...          900   344   \n",
       "\n",
       "   frontline  \n",
       "0         50  \n",
       "1         47  \n",
       "2         56  \n",
       "3         92  \n",
       "4        109  \n",
       "5         88  \n",
       "6         83  \n",
       "7         40  \n",
       "8         40  "
      ]
     },
     "execution_count": 35,
     "metadata": {},
     "output_type": "execute_result"
    }
   ],
   "source": [
    "# do the same for 'mask' and 'frontline'\n",
    "keywordlist = [x[0] for x in model.most_similar(positive=['mask'])]\n",
    "tokenfreq=[]\n",
    "\n",
    "for tokens in mlistings.tokens:\n",
    "    freq = 0\n",
    "    for word in keywordlist:\n",
    "        freq += tokens.count(word)\n",
    "    tokenfreq.append(freq)\n",
    "\n",
    "mlistings['mask'] = tokenfreq\n",
    "\n",
    "keywordlist = [x[0] for x in model.most_similar(positive=['frontline'])]\n",
    "tokenfreq=[]\n",
    "\n",
    "for tokens in mlistings.tokens:\n",
    "    freq = 0\n",
    "    for word in keywordlist:\n",
    "        freq += tokens.count(word)\n",
    "    tokenfreq.append(freq)\n",
    "\n",
    "mlistings['frontline'] = tokenfreq\n",
    "\n",
    "mlistings"
   ]
  },
  {
   "cell_type": "code",
   "execution_count": 38,
   "metadata": {
    "scrolled": false
   },
   "outputs": [
    {
     "data": {
      "image/png": "[encoded data removed]",
      "text/plain": [
       "<Figure size 720x576 with 1 Axes>"
      ]
     },
     "metadata": {},
     "output_type": "display_data"
    }
   ],
   "source": [
    "pos = list(range(9)) \n",
    "width = 0.25 \n",
    "\n",
    "fig, ax = plt.subplots(figsize=(10,8))\n",
    "plt.bar(pos, mlistings['coronavirus'],width,alpha=0.8)\n",
    "plt.bar([p + width for p in pos], mlistings['mask'],width,alpha=0.8)\n",
    "plt.bar([p + width*2 for p in pos], mlistings['frontline'],width,alpha=0.8)\n",
    "\n",
    "ax.set_title('pandemic-related keyword frequency')\n",
    "ax.set_ylabel('token frequency')b\n",
    "ax.set_xlabel('months')\n",
    "ax.set_xticks([p + width for p in pos])\n",
    "ax.set_xticklabels(['jan','feb','mar','apr','may','jun','jul','aug','sep'])\n",
    "plt.legend(['coronavirus', 'mask', 'frontline'], loc='upper left')\n",
    "\n",
    "plt.show()"
   ]
  },
  {
   "cell_type": "markdown",
   "metadata": {},
   "source": [
    "#### 1.0.2 Does this listing contain keywords or not"
   ]
  },
  {
   "cell_type": "code",
   "execution_count": 41,
   "metadata": {},
   "outputs": [
    {
     "data": {
      "text/html": [
       "<div>\n",
       "<style scoped>\n",
       "    .dataframe tbody tr th:only-of-type {\n",
       "        vertical-align: middle;\n",
       "    }\n",
       "\n",
       "    .dataframe tbody tr th {\n",
       "        vertical-align: top;\n",
       "    }\n",
       "\n",
       "    .dataframe thead th {\n",
       "        text-align: right;\n",
       "    }\n",
       "</style>\n",
       "<table border=\"1\" class=\"dataframe\">\n",
       "  <thead>\n",
       "    <tr style=\"text-align: right;\">\n",
       "      <th></th>\n",
       "      <th>id</th>\n",
       "      <th>description</th>\n",
       "      <th>month</th>\n",
       "    </tr>\n",
       "  </thead>\n",
       "  <tbody>\n",
       "    <tr>\n",
       "      <th>0</th>\n",
       "      <td>2060</td>\n",
       "      <td>Lovely, spacious, sunny 1 BR apartment in 6th ...</td>\n",
       "      <td>6</td>\n",
       "    </tr>\n",
       "    <tr>\n",
       "      <th>1</th>\n",
       "      <td>3831</td>\n",
       "      <td>Enjoy 500 s.f. top floor in 1899 brownstone, w...</td>\n",
       "      <td>6</td>\n",
       "    </tr>\n",
       "    <tr>\n",
       "      <th>2</th>\n",
       "      <td>5099</td>\n",
       "      <td>My large 1 bedroom apartment has a true New Yo...</td>\n",
       "      <td>6</td>\n",
       "    </tr>\n",
       "    <tr>\n",
       "      <th>3</th>\n",
       "      <td>5121</td>\n",
       "      <td>HELLO EVERYONE AND THANKS FOR VISITING BLISS A...</td>\n",
       "      <td>6</td>\n",
       "    </tr>\n",
       "    <tr>\n",
       "      <th>4</th>\n",
       "      <td>5136</td>\n",
       "      <td>We welcome you to stay in our lovely 2 br dupl...</td>\n",
       "      <td>6</td>\n",
       "    </tr>\n",
       "  </tbody>\n",
       "</table>\n",
       "</div>"
      ],
      "text/plain": [
       "     id                                        description  month\n",
       "0  2060  Lovely, spacious, sunny 1 BR apartment in 6th ...      6\n",
       "1  3831  Enjoy 500 s.f. top floor in 1899 brownstone, w...      6\n",
       "2  5099  My large 1 bedroom apartment has a true New Yo...      6\n",
       "3  5121  HELLO EVERYONE AND THANKS FOR VISITING BLISS A...      6\n",
       "4  5136  We welcome you to stay in our lovely 2 br dupl...      6"
      ]
     },
     "execution_count": 41,
     "metadata": {},
     "output_type": "execute_result"
    }
   ],
   "source": [
    "keywordtest = testset[['id','description','month']]\n",
    "keywordtest.head()"
   ]
  },
  {
   "cell_type": "code",
   "execution_count": 42,
   "metadata": {},
   "outputs": [],
   "source": [
    "def tokenize(text):\n",
    "    text_nonum = re.sub(r'\\d+', '', text)\n",
    "    text_nohtml = BeautifulSoup(text_nonum, \"lxml\").text\n",
    "    text_nodash = re.sub(r'-',' ',text_nohtml)\n",
    "    text_nopunct = \"\".join([char.lower() for char in text_nodash if char not in string.punctuation]) \n",
    "    text_no_doublespace = re.sub('\\s+', ' ', text_nopunct).strip()\n",
    "    tokens = [t for t in text_no_doublespace.split() if t not in stop_words]\n",
    "    return tokens"
   ]
  },
  {
   "cell_type": "code",
   "execution_count": 47,
   "metadata": {},
   "outputs": [],
   "source": [
    "keywordtest['tokens'] = keywordtest.description.apply(lambda x: tokenize(x))"
   ]
  },
  {
   "cell_type": "code",
   "execution_count": 48,
   "metadata": {},
   "outputs": [
    {
     "data": {
      "text/html": [
       "<div>\n",
       "<style scoped>\n",
       "    .dataframe tbody tr th:only-of-type {\n",
       "        vertical-align: middle;\n",
       "    }\n",
       "\n",
       "    .dataframe tbody tr th {\n",
       "        vertical-align: top;\n",
       "    }\n",
       "\n",
       "    .dataframe thead th {\n",
       "        text-align: right;\n",
       "    }\n",
       "</style>\n",
       "<table border=\"1\" class=\"dataframe\">\n",
       "  <thead>\n",
       "    <tr style=\"text-align: right;\">\n",
       "      <th></th>\n",
       "      <th>id</th>\n",
       "      <th>description</th>\n",
       "      <th>month</th>\n",
       "      <th>tokens</th>\n",
       "    </tr>\n",
       "  </thead>\n",
       "  <tbody>\n",
       "    <tr>\n",
       "      <th>0</th>\n",
       "      <td>2060</td>\n",
       "      <td>Lovely, spacious, sunny 1 BR apartment in 6th ...</td>\n",
       "      <td>6</td>\n",
       "      <td>[lovely, spacious, sunny, br, apartment, th, f...</td>\n",
       "    </tr>\n",
       "    <tr>\n",
       "      <th>1</th>\n",
       "      <td>3831</td>\n",
       "      <td>Enjoy 500 s.f. top floor in 1899 brownstone, w...</td>\n",
       "      <td>6</td>\n",
       "      <td>[enjoy, sf, top, floor, brownstone, w, wood, c...</td>\n",
       "    </tr>\n",
       "    <tr>\n",
       "      <th>2</th>\n",
       "      <td>5099</td>\n",
       "      <td>My large 1 bedroom apartment has a true New Yo...</td>\n",
       "      <td>6</td>\n",
       "      <td>[large, bedroom, apartment, true, new, york, c...</td>\n",
       "    </tr>\n",
       "    <tr>\n",
       "      <th>3</th>\n",
       "      <td>5121</td>\n",
       "      <td>HELLO EVERYONE AND THANKS FOR VISITING BLISS A...</td>\n",
       "      <td>6</td>\n",
       "      <td>[hello, everyone, thanks, visiting, bliss, art...</td>\n",
       "    </tr>\n",
       "    <tr>\n",
       "      <th>4</th>\n",
       "      <td>5136</td>\n",
       "      <td>We welcome you to stay in our lovely 2 br dupl...</td>\n",
       "      <td>6</td>\n",
       "      <td>[welcome, stay, lovely, br, duplex, south, slo...</td>\n",
       "    </tr>\n",
       "  </tbody>\n",
       "</table>\n",
       "</div>"
      ],
      "text/plain": [
       "     id                                        description  month  \\\n",
       "0  2060  Lovely, spacious, sunny 1 BR apartment in 6th ...      6   \n",
       "1  3831  Enjoy 500 s.f. top floor in 1899 brownstone, w...      6   \n",
       "2  5099  My large 1 bedroom apartment has a true New Yo...      6   \n",
       "3  5121  HELLO EVERYONE AND THANKS FOR VISITING BLISS A...      6   \n",
       "4  5136  We welcome you to stay in our lovely 2 br dupl...      6   \n",
       "\n",
       "                                              tokens  \n",
       "0  [lovely, spacious, sunny, br, apartment, th, f...  \n",
       "1  [enjoy, sf, top, floor, brownstone, w, wood, c...  \n",
       "2  [large, bedroom, apartment, true, new, york, c...  \n",
       "3  [hello, everyone, thanks, visiting, bliss, art...  \n",
       "4  [welcome, stay, lovely, br, duplex, south, slo...  "
      ]
     },
     "execution_count": 48,
     "metadata": {},
     "output_type": "execute_result"
    }
   ],
   "source": [
    "keywordtest.head()"
   ]
  },
  {
   "cell_type": "code",
   "execution_count": 90,
   "metadata": {},
   "outputs": [],
   "source": [
    "coronalist = [x[0] for x in model.most_similar(positive=['coronavirus'])]\n",
    "masklist = [x[0] for x in model.most_similar(positive=['mask'])]\n",
    "frontlinelist = [x[0] for x in model.most_similar(positive=['frontline'])]"
   ]
  },
  {
   "cell_type": "code",
   "execution_count": 86,
   "metadata": {},
   "outputs": [],
   "source": [
    "def keywordcheck(keywordlist,tokens):\n",
    "    check=0\n",
    "    for word in keywordlist:\n",
    "        if word in tokens:\n",
    "            check=1\n",
    "    return check"
   ]
  },
  {
   "cell_type": "code",
   "execution_count": 91,
   "metadata": {},
   "outputs": [],
   "source": [
    "keywordtest['coronavirus'] = keywordtest.tokens.apply(lambda x: keywordcheck(coronalist,x))\n",
    "keywordtest['mask'] = keywordtest.tokens.apply(lambda x: keywordcheck(masklist,x))\n",
    "keywordtest['frontline'] = keywordtest.tokens.apply(lambda x: keywordcheck(frontlinelist,x))"
   ]
  },
  {
   "cell_type": "code",
   "execution_count": 92,
   "metadata": {},
   "outputs": [
    {
     "data": {
      "text/html": [
       "<div>\n",
       "<style scoped>\n",
       "    .dataframe tbody tr th:only-of-type {\n",
       "        vertical-align: middle;\n",
       "    }\n",
       "\n",
       "    .dataframe tbody tr th {\n",
       "        vertical-align: top;\n",
       "    }\n",
       "\n",
       "    .dataframe thead th {\n",
       "        text-align: right;\n",
       "    }\n",
       "</style>\n",
       "<table border=\"1\" class=\"dataframe\">\n",
       "  <thead>\n",
       "    <tr style=\"text-align: right;\">\n",
       "      <th></th>\n",
       "      <th>id</th>\n",
       "      <th>month</th>\n",
       "      <th>coronavirus</th>\n",
       "      <th>mask</th>\n",
       "      <th>frontline</th>\n",
       "    </tr>\n",
       "  </thead>\n",
       "  <tbody>\n",
       "    <tr>\n",
       "      <th>count</th>\n",
       "      <td>3.712910e+05</td>\n",
       "      <td>371291.000000</td>\n",
       "      <td>371291.000000</td>\n",
       "      <td>371291.000000</td>\n",
       "      <td>371291.000000</td>\n",
       "    </tr>\n",
       "    <tr>\n",
       "      <th>mean</th>\n",
       "      <td>2.199874e+07</td>\n",
       "      <td>4.887654</td>\n",
       "      <td>0.009268</td>\n",
       "      <td>0.006181</td>\n",
       "      <td>0.001503</td>\n",
       "    </tr>\n",
       "    <tr>\n",
       "      <th>std</th>\n",
       "      <td>1.318577e+07</td>\n",
       "      <td>2.566168</td>\n",
       "      <td>0.095822</td>\n",
       "      <td>0.078377</td>\n",
       "      <td>0.038738</td>\n",
       "    </tr>\n",
       "    <tr>\n",
       "      <th>min</th>\n",
       "      <td>2.060000e+03</td>\n",
       "      <td>1.000000</td>\n",
       "      <td>0.000000</td>\n",
       "      <td>0.000000</td>\n",
       "      <td>0.000000</td>\n",
       "    </tr>\n",
       "    <tr>\n",
       "      <th>25%</th>\n",
       "      <td>1.007014e+07</td>\n",
       "      <td>3.000000</td>\n",
       "      <td>0.000000</td>\n",
       "      <td>0.000000</td>\n",
       "      <td>0.000000</td>\n",
       "    </tr>\n",
       "    <tr>\n",
       "      <th>50%</th>\n",
       "      <td>2.163540e+07</td>\n",
       "      <td>5.000000</td>\n",
       "      <td>0.000000</td>\n",
       "      <td>0.000000</td>\n",
       "      <td>0.000000</td>\n",
       "    </tr>\n",
       "    <tr>\n",
       "      <th>75%</th>\n",
       "      <td>3.415772e+07</td>\n",
       "      <td>7.000000</td>\n",
       "      <td>0.000000</td>\n",
       "      <td>0.000000</td>\n",
       "      <td>0.000000</td>\n",
       "    </tr>\n",
       "    <tr>\n",
       "      <th>max</th>\n",
       "      <td>4.532998e+07</td>\n",
       "      <td>9.000000</td>\n",
       "      <td>1.000000</td>\n",
       "      <td>1.000000</td>\n",
       "      <td>1.000000</td>\n",
       "    </tr>\n",
       "  </tbody>\n",
       "</table>\n",
       "</div>"
      ],
      "text/plain": [
       "                 id          month    coronavirus           mask  \\\n",
       "count  3.712910e+05  371291.000000  371291.000000  371291.000000   \n",
       "mean   2.199874e+07       4.887654       0.009268       0.006181   \n",
       "std    1.318577e+07       2.566168       0.095822       0.078377   \n",
       "min    2.060000e+03       1.000000       0.000000       0.000000   \n",
       "25%    1.007014e+07       3.000000       0.000000       0.000000   \n",
       "50%    2.163540e+07       5.000000       0.000000       0.000000   \n",
       "75%    3.415772e+07       7.000000       0.000000       0.000000   \n",
       "max    4.532998e+07       9.000000       1.000000       1.000000   \n",
       "\n",
       "           frontline  \n",
       "count  371291.000000  \n",
       "mean        0.001503  \n",
       "std         0.038738  \n",
       "min         0.000000  \n",
       "25%         0.000000  \n",
       "50%         0.000000  \n",
       "75%         0.000000  \n",
       "max         1.000000  "
      ]
     },
     "execution_count": 92,
     "metadata": {},
     "output_type": "execute_result"
    }
   ],
   "source": [
    "keywordtest.describe()"
   ]
  },
  {
   "cell_type": "code",
   "execution_count": 95,
   "metadata": {},
   "outputs": [
    {
     "data": {
      "text/html": [
       "<div>\n",
       "<style scoped>\n",
       "    .dataframe tbody tr th:only-of-type {\n",
       "        vertical-align: middle;\n",
       "    }\n",
       "\n",
       "    .dataframe tbody tr th {\n",
       "        vertical-align: top;\n",
       "    }\n",
       "\n",
       "    .dataframe thead th {\n",
       "        text-align: right;\n",
       "    }\n",
       "</style>\n",
       "<table border=\"1\" class=\"dataframe\">\n",
       "  <thead>\n",
       "    <tr style=\"text-align: right;\">\n",
       "      <th></th>\n",
       "      <th>coronavirus</th>\n",
       "      <th>mask</th>\n",
       "      <th>frontline</th>\n",
       "      <th>listing_count</th>\n",
       "    </tr>\n",
       "    <tr>\n",
       "      <th>month</th>\n",
       "      <th></th>\n",
       "      <th></th>\n",
       "      <th></th>\n",
       "      <th></th>\n",
       "    </tr>\n",
       "  </thead>\n",
       "  <tbody>\n",
       "    <tr>\n",
       "      <th>1</th>\n",
       "      <td>6</td>\n",
       "      <td>208</td>\n",
       "      <td>45</td>\n",
       "      <td>43498</td>\n",
       "    </tr>\n",
       "    <tr>\n",
       "      <th>2</th>\n",
       "      <td>7</td>\n",
       "      <td>206</td>\n",
       "      <td>45</td>\n",
       "      <td>43045</td>\n",
       "    </tr>\n",
       "    <tr>\n",
       "      <th>3</th>\n",
       "      <td>81</td>\n",
       "      <td>216</td>\n",
       "      <td>54</td>\n",
       "      <td>42608</td>\n",
       "    </tr>\n",
       "    <tr>\n",
       "      <th>4</th>\n",
       "      <td>297</td>\n",
       "      <td>276</td>\n",
       "      <td>88</td>\n",
       "      <td>42111</td>\n",
       "    </tr>\n",
       "    <tr>\n",
       "      <th>5</th>\n",
       "      <td>441</td>\n",
       "      <td>279</td>\n",
       "      <td>96</td>\n",
       "      <td>42024</td>\n",
       "    </tr>\n",
       "    <tr>\n",
       "      <th>6</th>\n",
       "      <td>592</td>\n",
       "      <td>285</td>\n",
       "      <td>81</td>\n",
       "      <td>41294</td>\n",
       "    </tr>\n",
       "    <tr>\n",
       "      <th>7</th>\n",
       "      <td>691</td>\n",
       "      <td>292</td>\n",
       "      <td>77</td>\n",
       "      <td>40452</td>\n",
       "    </tr>\n",
       "    <tr>\n",
       "      <th>8</th>\n",
       "      <td>654</td>\n",
       "      <td>273</td>\n",
       "      <td>36</td>\n",
       "      <td>38493</td>\n",
       "    </tr>\n",
       "    <tr>\n",
       "      <th>9</th>\n",
       "      <td>672</td>\n",
       "      <td>260</td>\n",
       "      <td>36</td>\n",
       "      <td>37766</td>\n",
       "    </tr>\n",
       "  </tbody>\n",
       "</table>\n",
       "</div>"
      ],
      "text/plain": [
       "       coronavirus  mask  frontline  listing_count\n",
       "month                                             \n",
       "1                6   208         45          43498\n",
       "2                7   206         45          43045\n",
       "3               81   216         54          42608\n",
       "4              297   276         88          42111\n",
       "5              441   279         96          42024\n",
       "6              592   285         81          41294\n",
       "7              691   292         77          40452\n",
       "8              654   273         36          38493\n",
       "9              672   260         36          37766"
      ]
     },
     "execution_count": 95,
     "metadata": {},
     "output_type": "execute_result"
    }
   ],
   "source": [
    "mkeywordtest = keywordtest.groupby(['month']).agg({'coronavirus':'sum','mask':'sum','frontline':'sum','id':'count'}).rename(columns={'id':'listing_count'})\n",
    "mkeywordtest"
   ]
  },
  {
   "cell_type": "code",
   "execution_count": 99,
   "metadata": {},
   "outputs": [
    {
     "data": {
      "text/html": [
       "<div>\n",
       "<style scoped>\n",
       "    .dataframe tbody tr th:only-of-type {\n",
       "        vertical-align: middle;\n",
       "    }\n",
       "\n",
       "    .dataframe tbody tr th {\n",
       "        vertical-align: top;\n",
       "    }\n",
       "\n",
       "    .dataframe thead th {\n",
       "        text-align: right;\n",
       "    }\n",
       "</style>\n",
       "<table border=\"1\" class=\"dataframe\">\n",
       "  <thead>\n",
       "    <tr style=\"text-align: right;\">\n",
       "      <th></th>\n",
       "      <th>coronavirus</th>\n",
       "      <th>mask</th>\n",
       "      <th>frontline</th>\n",
       "      <th>listing_count</th>\n",
       "      <th>coronavirus_n</th>\n",
       "      <th>mask_n</th>\n",
       "      <th>frontline_n</th>\n",
       "    </tr>\n",
       "    <tr>\n",
       "      <th>month</th>\n",
       "      <th></th>\n",
       "      <th></th>\n",
       "      <th></th>\n",
       "      <th></th>\n",
       "      <th></th>\n",
       "      <th></th>\n",
       "      <th></th>\n",
       "    </tr>\n",
       "  </thead>\n",
       "  <tbody>\n",
       "    <tr>\n",
       "      <th>1</th>\n",
       "      <td>6</td>\n",
       "      <td>208</td>\n",
       "      <td>45</td>\n",
       "      <td>43498</td>\n",
       "      <td>0.013794</td>\n",
       "      <td>0.478183</td>\n",
       "      <td>0.103453</td>\n",
       "    </tr>\n",
       "    <tr>\n",
       "      <th>2</th>\n",
       "      <td>7</td>\n",
       "      <td>206</td>\n",
       "      <td>45</td>\n",
       "      <td>43045</td>\n",
       "      <td>0.016262</td>\n",
       "      <td>0.478569</td>\n",
       "      <td>0.104542</td>\n",
       "    </tr>\n",
       "    <tr>\n",
       "      <th>3</th>\n",
       "      <td>81</td>\n",
       "      <td>216</td>\n",
       "      <td>54</td>\n",
       "      <td>42608</td>\n",
       "      <td>0.190105</td>\n",
       "      <td>0.506947</td>\n",
       "      <td>0.126737</td>\n",
       "    </tr>\n",
       "    <tr>\n",
       "      <th>4</th>\n",
       "      <td>297</td>\n",
       "      <td>276</td>\n",
       "      <td>88</td>\n",
       "      <td>42111</td>\n",
       "      <td>0.705279</td>\n",
       "      <td>0.655411</td>\n",
       "      <td>0.208972</td>\n",
       "    </tr>\n",
       "    <tr>\n",
       "      <th>5</th>\n",
       "      <td>441</td>\n",
       "      <td>279</td>\n",
       "      <td>96</td>\n",
       "      <td>42024</td>\n",
       "      <td>1.049400</td>\n",
       "      <td>0.663906</td>\n",
       "      <td>0.228441</td>\n",
       "    </tr>\n",
       "    <tr>\n",
       "      <th>6</th>\n",
       "      <td>592</td>\n",
       "      <td>285</td>\n",
       "      <td>81</td>\n",
       "      <td>41294</td>\n",
       "      <td>1.433622</td>\n",
       "      <td>0.690173</td>\n",
       "      <td>0.196154</td>\n",
       "    </tr>\n",
       "    <tr>\n",
       "      <th>7</th>\n",
       "      <td>691</td>\n",
       "      <td>292</td>\n",
       "      <td>77</td>\n",
       "      <td>40452</td>\n",
       "      <td>1.708197</td>\n",
       "      <td>0.721843</td>\n",
       "      <td>0.190349</td>\n",
       "    </tr>\n",
       "    <tr>\n",
       "      <th>8</th>\n",
       "      <td>654</td>\n",
       "      <td>273</td>\n",
       "      <td>36</td>\n",
       "      <td>38493</td>\n",
       "      <td>1.699010</td>\n",
       "      <td>0.709220</td>\n",
       "      <td>0.093523</td>\n",
       "    </tr>\n",
       "    <tr>\n",
       "      <th>9</th>\n",
       "      <td>672</td>\n",
       "      <td>260</td>\n",
       "      <td>36</td>\n",
       "      <td>37766</td>\n",
       "      <td>1.779378</td>\n",
       "      <td>0.688450</td>\n",
       "      <td>0.095324</td>\n",
       "    </tr>\n",
       "  </tbody>\n",
       "</table>\n",
       "</div>"
      ],
      "text/plain": [
       "       coronavirus  mask  frontline  listing_count  coronavirus_n    mask_n  \\\n",
       "month                                                                         \n",
       "1                6   208         45          43498       0.013794  0.478183   \n",
       "2                7   206         45          43045       0.016262  0.478569   \n",
       "3               81   216         54          42608       0.190105  0.506947   \n",
       "4              297   276         88          42111       0.705279  0.655411   \n",
       "5              441   279         96          42024       1.049400  0.663906   \n",
       "6              592   285         81          41294       1.433622  0.690173   \n",
       "7              691   292         77          40452       1.708197  0.721843   \n",
       "8              654   273         36          38493       1.699010  0.709220   \n",
       "9              672   260         36          37766       1.779378  0.688450   \n",
       "\n",
       "       frontline_n  \n",
       "month               \n",
       "1         0.103453  \n",
       "2         0.104542  \n",
       "3         0.126737  \n",
       "4         0.208972  \n",
       "5         0.228441  \n",
       "6         0.196154  \n",
       "7         0.190349  \n",
       "8         0.093523  \n",
       "9         0.095324  "
      ]
     },
     "execution_count": 99,
     "metadata": {},
     "output_type": "execute_result"
    }
   ],
   "source": [
    "# normalise by listing_count\n",
    "mkeywordtest['coronavirus_n'] = (mkeywordtest['coronavirus'] / mkeywordtest.listing_count)*100\n",
    "mkeywordtest['mask_n'] = (mkeywordtest['mask'] / mkeywordtest.listing_count)*100\n",
    "mkeywordtest['frontline_n'] = (mkeywordtest['frontline'] / mkeywordtest.listing_count)*100\n",
    "mkeywordtest"
   ]
  },
  {
   "cell_type": "code",
   "execution_count": 101,
   "metadata": {},
   "outputs": [
    {
     "data": {
      "image/png": "[encoded data removed]",
      "text/plain": [
       "<Figure size 720x576 with 1 Axes>"
      ]
     },
     "metadata": {},
     "output_type": "display_data"
    }
   ],
   "source": [
    "pos = list(range(9)) \n",
    "width = 0.25 \n",
    "\n",
    "fig, ax = plt.subplots(figsize=(10,8))\n",
    "plt.bar(pos, mkeywordtest['coronavirus_n'],width,alpha=0.8)\n",
    "plt.bar([p + width for p in pos], mkeywordtest['mask_n'],width,alpha=0.8)\n",
    "plt.bar([p + width*2 for p in pos], mkeywordtest['frontline_n'],width,alpha=0.8)\n",
    "\n",
    "ax.set_title('percentge of listings with pandemic-related keywords')\n",
    "ax.set_ylabel('percentage listings')\n",
    "ax.set_xlabel('months')\n",
    "ax.set_xticks([p + width for p in pos])\n",
    "ax.set_xticklabels(['jan','feb','mar','apr','may','jun','jul','aug','sep'])\n",
    "plt.legend(['coronavirus', 'mask', 'frontline'], loc='upper left')\n",
    "\n",
    "plt.show()"
   ]
  },
  {
   "cell_type": "markdown",
   "metadata": {},
   "source": [
    "#### 1.1 Plotting token frequency"
   ]
  },
  {
   "cell_type": "code",
   "execution_count": 59,
   "metadata": {
    "scrolled": true
   },
   "outputs": [],
   "source": [
    "tokens=[]\n",
    "for bag in ttokens:\n",
    "    for word in bag:\n",
    "        tokens.append(word)"
   ]
  },
  {
   "cell_type": "code",
   "execution_count": 61,
   "metadata": {},
   "outputs": [
    {
     "data": {
      "image/png": "[encoded data removed]",
      "text/plain": [
       "<Figure size 432x288 with 1 Axes>"
      ]
     },
     "metadata": {
      "needs_background": "light"
     },
     "output_type": "display_data"
    },
    {
     "data": {
      "text/plain": [
       "<matplotlib.axes._subplots.AxesSubplot at 0x1a9ba54f90>"
      ]
     },
     "execution_count": 61,
     "metadata": {},
     "output_type": "execute_result"
    }
   ],
   "source": [
    "freq = nltk.FreqDist(tokens)\n",
    "freq.plot(20, cumulative=False)"
   ]
  },
  {
   "cell_type": "code",
   "execution_count": 62,
   "metadata": {},
   "outputs": [
    {
     "data": {
      "text/html": [
       "<div>\n",
       "<style scoped>\n",
       "    .dataframe tbody tr th:only-of-type {\n",
       "        vertical-align: middle;\n",
       "    }\n",
       "\n",
       "    .dataframe tbody tr th {\n",
       "        vertical-align: top;\n",
       "    }\n",
       "\n",
       "    .dataframe thead th {\n",
       "        text-align: right;\n",
       "    }\n",
       "</style>\n",
       "<table border=\"1\" class=\"dataframe\">\n",
       "  <thead>\n",
       "    <tr style=\"text-align: right;\">\n",
       "      <th></th>\n",
       "      <th>Frequency</th>\n",
       "    </tr>\n",
       "  </thead>\n",
       "  <tbody>\n",
       "    <tr>\n",
       "      <th>count</th>\n",
       "      <td>89385.000000</td>\n",
       "    </tr>\n",
       "    <tr>\n",
       "      <th>mean</th>\n",
       "      <td>248.673435</td>\n",
       "    </tr>\n",
       "    <tr>\n",
       "      <th>std</th>\n",
       "      <td>3690.268758</td>\n",
       "    </tr>\n",
       "    <tr>\n",
       "      <th>min</th>\n",
       "      <td>1.000000</td>\n",
       "    </tr>\n",
       "    <tr>\n",
       "      <th>25%</th>\n",
       "      <td>2.000000</td>\n",
       "    </tr>\n",
       "    <tr>\n",
       "      <th>50%</th>\n",
       "      <td>5.000000</td>\n",
       "    </tr>\n",
       "    <tr>\n",
       "      <th>75%</th>\n",
       "      <td>14.000000</td>\n",
       "    </tr>\n",
       "    <tr>\n",
       "      <th>max</th>\n",
       "      <td>400485.000000</td>\n",
       "    </tr>\n",
       "  </tbody>\n",
       "</table>\n",
       "</div>"
      ],
      "text/plain": [
       "           Frequency\n",
       "count   89385.000000\n",
       "mean      248.673435\n",
       "std      3690.268758\n",
       "min         1.000000\n",
       "25%         2.000000\n",
       "50%         5.000000\n",
       "75%        14.000000\n",
       "max    400485.000000"
      ]
     },
     "execution_count": 62,
     "metadata": {},
     "output_type": "execute_result"
    }
   ],
   "source": [
    "#frequency of tokens across listings\n",
    "freqdf = pd.DataFrame(list(freq.items()), columns = [\"Word\",\"Frequency\"])\n",
    "freqdf.describe()"
   ]
  },
  {
   "cell_type": "markdown",
   "metadata": {},
   "source": [
    "#### 1.2 Generating wordcloud"
   ]
  },
  {
   "cell_type": "code",
   "execution_count": 65,
   "metadata": {},
   "outputs": [],
   "source": [
    "text = \" \".join(t for t in tokens)"
   ]
  },
  {
   "cell_type": "code",
   "execution_count": 66,
   "metadata": {},
   "outputs": [
    {
     "data": {
      "image/png": "[encoded data removed]",
      "text/plain": [
       "<Figure size 432x288 with 1 Axes>"
      ]
     },
     "metadata": {
      "needs_background": "light"
     },
     "output_type": "display_data"
    }
   ],
   "source": [
    "wordcloud = WordCloud(max_words=100, background_color=\"white\").generate(text)\n",
    "plt.figure()\n",
    "plt.imshow(wordcloud, interpolation=\"bilinear\")\n",
    "plt.axis(\"off\")\n",
    "plt.show()"
   ]
  },
  {
   "cell_type": "code",
   "execution_count": null,
   "metadata": {},
   "outputs": [],
   "source": []
  }
 ],
 "metadata": {
  "colab": {
   "collapsed_sections": [],
   "machine_shape": "hm",
   "name": "PUI_AirBnb.ipynb",
   "provenance": []
  },
  "kernelspec": {
   "display_name": "Python 3",
   "language": "python",
   "name": "python3"
  },
  "language_info": {
   "codemirror_mode": {
    "name": "ipython",
    "version": 3
   },
   "file_extension": ".py",
   "mimetype": "text/x-python",
   "name": "python",
   "nbconvert_exporter": "python",
   "pygments_lexer": "ipython3",
   "version": "3.7.6"
  }
 },
 "nbformat": 4,
 "nbformat_minor": 1
}
